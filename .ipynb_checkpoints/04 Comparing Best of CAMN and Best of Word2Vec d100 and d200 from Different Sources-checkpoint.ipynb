{
 "cells": [
  {
   "cell_type": "code",
   "execution_count": 1,
   "metadata": {
    "collapsed": true
   },
   "outputs": [],
   "source": [
    "import gensim\n",
    "import pandas as pd\n",
    "import numpy as np\n",
    "import sys\n",
    "import os\n",
    "import itertools\n",
    "import sklearn\n",
    "import pickle\n",
    "\n",
    "from sklearn import cross_validation\n",
    "from sklearn import svm\n",
    "from sklearn import metrics\n",
    "\n",
    "from scipy import stats\n",
    "from bs4 import BeautifulSoup\n",
    "\n",
    "reload(sys)\n",
    "sys.setdefaultencoding(\"UTF-8\")"
   ]
  },
  {
   "cell_type": "code",
   "execution_count": 2,
   "metadata": {
    "collapsed": true
   },
   "outputs": [],
   "source": [
    "camn_results = pickle.load( open( \"camn-results.pkl\", \"rb\" ) )"
   ]
  },
  {
   "cell_type": "code",
   "execution_count": 3,
   "metadata": {
    "collapsed": true
   },
   "outputs": [],
   "source": [
    "word2vec_avg_results = pickle.load( open( \"word2vec-average-d100-d200.pkl\", \"rb\" ) )"
   ]
  },
  {
   "cell_type": "code",
   "execution_count": 33,
   "metadata": {
    "collapsed": false
   },
   "outputs": [
    {
     "data": {
      "text/plain": [
       "[('1,0.0001', 0.61476190476190473),\n",
       " ('2,0.0001', 0.62064425770308129),\n",
       " ('1,0.001', 0.61476190476190473),\n",
       " ('3,0.001', 0.5217366946778712),\n",
       " ('2,0.1', 0.62064425770308129),\n",
       " ('2,10', 0.80960784313725487),\n",
       " ('2,0.001', 0.62064425770308129),\n",
       " ('1,10000', 0.61476190476190473),\n",
       " ('3,1000', 0.80960784313725487),\n",
       " ('3,1', 0.75179271708683471),\n",
       " ('1,1', 0.61476190476190473),\n",
       " ('1,10', 0.61476190476190473),\n",
       " ('2,10000', 0.80960784313725487),\n",
       " ('1,1000', 0.61476190476190473),\n",
       " ('2,1000', 0.80960784313725487),\n",
       " ('3,10000', 0.80960784313725487),\n",
       " ('3,0.0001', 0.51507002801120449),\n",
       " ('1,0.1', 0.61476190476190473),\n",
       " ('2,1', 0.70747899159663863),\n",
       " ('3,0.1', 0.60683473389355747),\n",
       " ('3,10', 0.80960784313725487)]"
      ]
     },
     "execution_count": 33,
     "metadata": {},
     "output_type": "execute_result"
    }
   ],
   "source": [
    "# Looking for best in camn result for age using poly\n",
    "camn_age_poly = [(x, camn_results['age-experiment-1.2'][x].mean()) for x in camn_results['age-experiment-1.2'].keys()]\n",
    "camn_age_poly"
   ]
  },
  {
   "cell_type": "code",
   "execution_count": 34,
   "metadata": {
    "collapsed": false
   },
   "outputs": [
    {
     "data": {
      "text/plain": [
       "0.80960784313725487"
      ]
     },
     "execution_count": 34,
     "metadata": {},
     "output_type": "execute_result"
    }
   ],
   "source": [
    "best_of_age_camn_using_poly = camn_results['age-experiment-1.2']['3,10']\n",
    "best_of_age_camn_using_poly.mean()"
   ]
  },
  {
   "cell_type": "code",
   "execution_count": null,
   "metadata": {
    "collapsed": true
   },
   "outputs": [],
   "source": [
    "# looking for the best in camn result for gender using poly"
   ]
  },
  {
   "cell_type": "code",
   "execution_count": 36,
   "metadata": {
    "collapsed": false
   },
   "outputs": [
    {
     "data": {
      "text/plain": [
       "[('1,0.0001', 0.61428571428571432),\n",
       " ('2,0.0001', 0.57857142857142851),\n",
       " ('1,0.001', 0.61428571428571432),\n",
       " ('3,0.001', 0.50624999999999998),\n",
       " ('2,0.1', 0.59464285714285725),\n",
       " ('2,10', 0.78035714285714286),\n",
       " ('2,0.001', 0.59285714285714286),\n",
       " ('1,10000', 0.61428571428571432),\n",
       " ('3,1000', 0.78035714285714286),\n",
       " ('3,1', 0.7321428571428571),\n",
       " ('1,1', 0.61428571428571432),\n",
       " ('1,10', 0.61428571428571432),\n",
       " ('2,10000', 0.78035714285714286),\n",
       " ('1,1000', 0.61428571428571432),\n",
       " ('2,1000', 0.78035714285714286),\n",
       " ('3,10000', 0.78035714285714286),\n",
       " ('3,0.0001', 0.50624999999999998),\n",
       " ('1,0.1', 0.61428571428571432),\n",
       " ('2,1', 0.62767857142857142),\n",
       " ('3,0.1', 0.53392857142857142),\n",
       " ('3,10', 0.78035714285714286)]"
      ]
     },
     "execution_count": 36,
     "metadata": {},
     "output_type": "execute_result"
    }
   ],
   "source": [
    "camn_gender_poly = [(x, camn_results['gender-experiment-1.2'][x].mean()) for x in camn_results['gender-experiment-1.2'].keys()]\n",
    "camn_gender_poly"
   ]
  },
  {
   "cell_type": "code",
   "execution_count": 37,
   "metadata": {
    "collapsed": false
   },
   "outputs": [
    {
     "data": {
      "text/plain": [
       "0.78035714285714286"
      ]
     },
     "execution_count": 37,
     "metadata": {},
     "output_type": "execute_result"
    }
   ],
   "source": [
    "best_of_gender_camn_using_poly = camn_results['gender-experiment-1.2']['2,10']\n",
    "best_of_gender_camn_using_poly.mean()"
   ]
  },
  {
   "cell_type": "code",
   "execution_count": 40,
   "metadata": {
    "collapsed": false
   },
   "outputs": [
    {
     "data": {
      "text/plain": [
       "[('0.0001,0.0001', 0.39630252100840335),\n",
       " ('0.0001,0.001', 0.39630252100840335),\n",
       " ('0.0001,0.1', 0.39630252100840335),\n",
       " ('0.0001,1', 0.39630252100840335),\n",
       " ('0.0001,10', 0.39630252100840335),\n",
       " ('0.0001,1000', 0.61397759103641447),\n",
       " ('0.0001,10000', 0.68747899159663861),\n",
       " ('0.001,0.0001', 0.39630252100840335),\n",
       " ('0.001,0.001', 0.39630252100840335),\n",
       " ('0.001,0.1', 0.39630252100840335),\n",
       " ('0.001,1', 0.39630252100840335),\n",
       " ('0.001,10', 0.39630252100840335),\n",
       " ('0.001,1000', 0.68747899159663861),\n",
       " ('0.001,10000', 0.80960784313725487),\n",
       " ('0.1,0.0001', 0.39630252100840335),\n",
       " ('0.1,0.001', 0.39630252100840335),\n",
       " ('0.1,0.1', 0.39630252100840335),\n",
       " ('0.1,1', 0.62064425770308129),\n",
       " ('0.1,10', 0.68747899159663861),\n",
       " ('0.1,1000', 0.80960784313725487),\n",
       " ('0.1,10000', 0.80960784313725487),\n",
       " ('1,0.0001', 0.39630252100840335),\n",
       " ('1,0.001', 0.39630252100840335),\n",
       " ('1,0.1', 0.44823529411764707),\n",
       " ('1,1', 0.64857142857142858),\n",
       " ('1,10', 0.79705882352941182),\n",
       " ('1,1000', 0.79705882352941182),\n",
       " ('1,10000', 0.79705882352941182),\n",
       " ('10,0.0001', 0.39630252100840335),\n",
       " ('10,0.001', 0.39630252100840335),\n",
       " ('10,0.1', 0.39630252100840335),\n",
       " ('10,1', 0.58761904761904749),\n",
       " ('10,10', 0.61938375350140051),\n",
       " ('10,1000', 0.61938375350140051),\n",
       " ('10,10000', 0.61938375350140051),\n",
       " ('1000,0.0001', 0.39630252100840335),\n",
       " ('1000,0.001', 0.39630252100840335),\n",
       " ('1000,0.1', 0.39630252100840335),\n",
       " ('1000,1', 0.39630252100840335),\n",
       " ('1000,10', 0.39630252100840335),\n",
       " ('1000,1000', 0.39630252100840335),\n",
       " ('1000,10000', 0.39630252100840335),\n",
       " ('10000,0.0001', 0.39630252100840335),\n",
       " ('10000,0.001', 0.39630252100840335),\n",
       " ('10000,0.1', 0.39630252100840335),\n",
       " ('10000,1', 0.39630252100840335),\n",
       " ('10000,10', 0.39630252100840335),\n",
       " ('10000,1000', 0.39630252100840335),\n",
       " ('10000,10000', 0.39630252100840335)]"
      ]
     },
     "execution_count": 40,
     "metadata": {},
     "output_type": "execute_result"
    }
   ],
   "source": [
    "# Looking for best in camn result for age using rbf\n",
    "camn_age_rbf = [(x, camn_results['age-experiment-1.3'][x].mean()) for x in camn_results['age-experiment-1.3'].keys()]\n",
    "camn_age_rbf.sort()\n",
    "camn_age_rbf"
   ]
  },
  {
   "cell_type": "code",
   "execution_count": 42,
   "metadata": {
    "collapsed": false
   },
   "outputs": [
    {
     "data": {
      "text/plain": [
       "0.80960784313725487"
      ]
     },
     "execution_count": 42,
     "metadata": {},
     "output_type": "execute_result"
    }
   ],
   "source": [
    "best_of_age_camn_using_rbf = camn_results['age-experiment-1.3']['0.1,1000']\n",
    "best_of_age_camn_using_rbf.mean()"
   ]
  },
  {
   "cell_type": "code",
   "execution_count": 43,
   "metadata": {
    "collapsed": false
   },
   "outputs": [
    {
     "data": {
      "text/plain": [
       "[('0.0001,0.0001', 0.61428571428571432),\n",
       " ('0.0001,0.001', 0.61428571428571432),\n",
       " ('0.0001,0.1', 0.61428571428571432),\n",
       " ('0.0001,1', 0.61428571428571432),\n",
       " ('0.0001,10', 0.61428571428571432),\n",
       " ('0.0001,1000', 0.61428571428571432),\n",
       " ('0.0001,10000', 0.61517857142857146),\n",
       " ('0.001,0.0001', 0.61428571428571432),\n",
       " ('0.001,0.001', 0.61428571428571432),\n",
       " ('0.001,0.1', 0.61428571428571432),\n",
       " ('0.001,1', 0.61428571428571432),\n",
       " ('0.001,10', 0.61428571428571432),\n",
       " ('0.001,1000', 0.61517857142857146),\n",
       " ('0.001,10000', 0.78035714285714286),\n",
       " ('0.1,0.0001', 0.61428571428571432),\n",
       " ('0.1,0.001', 0.61428571428571432),\n",
       " ('0.1,0.1', 0.61428571428571432),\n",
       " ('0.1,1', 0.61428571428571432),\n",
       " ('0.1,10', 0.60892857142857149),\n",
       " ('0.1,1000', 0.78035714285714286),\n",
       " ('0.1,10000', 0.78035714285714286),\n",
       " ('1,0.0001', 0.60803571428571435),\n",
       " ('1,0.001', 0.60803571428571435),\n",
       " ('1,0.1', 0.60803571428571435),\n",
       " ('1,1', 0.60089285714285723),\n",
       " ('1,10', 0.7723214285714286),\n",
       " ('1,1000', 0.77857142857142858),\n",
       " ('1,10000', 0.77857142857142858),\n",
       " ('10,0.0001', 0.59821428571428581),\n",
       " ('10,0.001', 0.59821428571428581),\n",
       " ('10,0.1', 0.59821428571428581),\n",
       " ('10,1', 0.72232142857142856),\n",
       " ('10,10', 0.7410714285714286),\n",
       " ('10,1000', 0.7410714285714286),\n",
       " ('10,10000', 0.7410714285714286),\n",
       " ('1000,0.0001', 0.63035714285714284),\n",
       " ('1000,0.001', 0.63035714285714284),\n",
       " ('1000,0.1', 0.63035714285714284),\n",
       " ('1000,1', 0.5133928571428571),\n",
       " ('1000,10', 0.5133928571428571),\n",
       " ('1000,1000', 0.5133928571428571),\n",
       " ('1000,10000', 0.5133928571428571),\n",
       " ('10000,0.0001', 0.5),\n",
       " ('10000,0.001', 0.5),\n",
       " ('10000,0.1', 0.5),\n",
       " ('10000,1', 0.5),\n",
       " ('10000,10', 0.5),\n",
       " ('10000,1000', 0.5),\n",
       " ('10000,10000', 0.5)]"
      ]
     },
     "execution_count": 43,
     "metadata": {},
     "output_type": "execute_result"
    }
   ],
   "source": [
    "# Looking for best in camn result for age using rbf\n",
    "camn_gender_rbf = [(x, camn_results['gender-experiment-1.3'][x].mean()) for x in camn_results['gender-experiment-1.3'].keys()]\n",
    "camn_gender_rbf.sort()\n",
    "camn_gender_rbf"
   ]
  },
  {
   "cell_type": "code",
   "execution_count": 44,
   "metadata": {
    "collapsed": false
   },
   "outputs": [
    {
     "data": {
      "text/plain": [
       "0.7723214285714286"
      ]
     },
     "execution_count": 44,
     "metadata": {},
     "output_type": "execute_result"
    }
   ],
   "source": [
    "best_of_gender_camn_using_rbf = camn_results['gender-experiment-1.3']['1,10']\n",
    "best_of_gender_camn_using_rbf.mean()"
   ]
  },
  {
   "cell_type": "code",
   "execution_count": 45,
   "metadata": {
    "collapsed": true
   },
   "outputs": [],
   "source": [
    "# getting best from word2vec averages age classification"
   ]
  },
  {
   "cell_type": "code",
   "execution_count": 51,
   "metadata": {
    "collapsed": false
   },
   "outputs": [],
   "source": [
    "# dim = 100\n",
    "w2v_twitter_d100_poly_age = word2vec_avg_results[\"word2vec-source=twitter dims=100 task=age kernel=poly degree=3 C=10\"]\n",
    "w2v_twitter_d100_rbf_age = word2vec_avg_results[\"word2vec-source=twitter dims=100 task=age kernel=rbf gamma=0.001 C=10\"]\n",
    "\n",
    "w2v_wikigiga_d100_poly_age = word2vec_avg_results[\"word2vec-source=wiki-giga dims=100 task=age kernel=poly degree=3 C=10\"]\n",
    "w2v_wikigiga_d100_rbf_age = word2vec_avg_results[\"word2vec-source=wiki-giga dims=100 task=age kernel=rbf gamma=0.001 C=10\"]\n",
    "\n",
    "# dim = 200\n",
    "w2v_twitter_d200_poly_age = word2vec_avg_results[\"word2vec-source=twitter dims=200 task=age kernel=poly degree=3 C=10\"]\n",
    "w2v_twitter_d200_rbf_age = word2vec_avg_results[\"word2vec-source=twitter dims=200 task=age kernel=rbf gamma=0.001 C=10\"]\n",
    "\n",
    "w2v_wikigiga_d200_poly_age = word2vec_avg_results[\"word2vec-source=wiki-giga dims=200 task=age kernel=poly degree=3 C=10\"]\n",
    "w2v_wikigiga_d200_rbf_age = word2vec_avg_results[\"word2vec-source=wiki-giga dims=200 task=age kernel=rbf gamma=0.001 C=10\"]"
   ]
  },
  {
   "cell_type": "code",
   "execution_count": 53,
   "metadata": {
    "collapsed": false
   },
   "outputs": [],
   "source": [
    "# getting best from word2vec averages gender classification"
   ]
  },
  {
   "cell_type": "code",
   "execution_count": 54,
   "metadata": {
    "collapsed": false
   },
   "outputs": [],
   "source": [
    "# dim = 100\n",
    "w2v_twitter_d100_poly_gender = word2vec_avg_results[\"word2vec-source=twitter dims=100 task=gender kernel=poly degree=3 C=10\"]\n",
    "w2v_twitter_d100_rbf_gender = word2vec_avg_results[\"word2vec-source=twitter dims=100 task=gender kernel=rbf gamma=0.001 C=10\"]\n",
    "\n",
    "w2v_wikigiga_d100_poly_gender = word2vec_avg_results[\"word2vec-source=wiki-giga dims=100 task=gender kernel=poly degree=3 C=1000\"]\n",
    "w2v_wikigiga_d100_rbf_gender = word2vec_avg_results[\"word2vec-source=wiki-giga dims=100 task=gender kernel=rbf gamma=0.001 C=10\"]\n",
    "\n",
    "# dim = 200\n",
    "w2v_twitter_d200_poly_gender = word2vec_avg_results[\"word2vec-source=twitter dims=200 task=gender kernel=poly degree=3 C=10\"]\n",
    "w2v_twitter_d200_rbf_gender = word2vec_avg_results[\"word2vec-source=twitter dims=200 task=gender kernel=rbf gamma=0.001 C=10\"]\n",
    "\n",
    "w2v_wikigiga_d200_poly_gender = word2vec_avg_results[\"word2vec-source=wiki-giga dims=200 task=gender kernel=poly degree=3 C=10\"]\n",
    "w2v_wikigiga_d200_rbf_gender = word2vec_avg_results[\"word2vec-source=wiki-giga dims=200 task=gender kernel=rbf gamma=0.001 C=10\"]"
   ]
  },
  {
   "cell_type": "code",
   "execution_count": 57,
   "metadata": {
    "collapsed": false
   },
   "outputs": [],
   "source": [
    "all_age = {'best_of_age_camn_using_poly': best_of_age_camn_using_poly, \n",
    "           'best_of_age_camn_using_rbf': best_of_age_camn_using_rbf,\n",
    "           'w2v_twitter_d100_poly_age' : w2v_twitter_d100_poly_age,\n",
    "           'w2v_twitter_d100_rbf_age' : w2v_twitter_d100_rbf_age,\n",
    "           'w2v_wikigiga_d100_poly_age' : w2v_wikigiga_d100_poly_age,\n",
    "           'w2v_wikigiga_d100_rbf_age' : w2v_wikigiga_d100_rbf_age,\n",
    "           'w2v_twitter_d200_poly_age' : w2v_twitter_d200_poly_age,\n",
    "           'w2v_twitter_d200_rbf_age' : w2v_twitter_d200_rbf_age,\n",
    "           'w2v_wikigiga_d200_poly_age' : w2v_wikigiga_d200_poly_age,\n",
    "           'w2v_wikigiga_d200_rbf_age' : w2v_wikigiga_d200_rbf_age}"
   ]
  },
  {
   "cell_type": "code",
   "execution_count": 58,
   "metadata": {
    "collapsed": true
   },
   "outputs": [],
   "source": [
    "all_gender = [best_of_gender_camn_using_poly, \n",
    "              best_of_gender_camn_using_rbf,\n",
    "              w2v_twitter_d100_poly_gender,\n",
    "              w2v_twitter_d100_rbf_gender,\n",
    "              w2v_wikigiga_d100_poly_gender,\n",
    "              w2v_wikigiga_d100_rbf_gender,\n",
    "              w2v_twitter_d200_poly_gender,\n",
    "              w2v_twitter_d200_rbf_gender,\n",
    "              w2v_wikigiga_d200_poly_gender,\n",
    "              w2v_wikigiga_d200_rbf_gender]"
   ]
  },
  {
   "cell_type": "code",
   "execution_count": null,
   "metadata": {
    "collapsed": false
   },
   "outputs": [],
   "source": []
  },
  {
   "cell_type": "code",
   "execution_count": null,
   "metadata": {
    "collapsed": true
   },
   "outputs": [],
   "source": []
  }
 ],
 "metadata": {
  "kernelspec": {
   "display_name": "Python 2",
   "language": "python",
   "name": "python2"
  },
  "language_info": {
   "codemirror_mode": {
    "name": "ipython",
    "version": 2
   },
   "file_extension": ".py",
   "mimetype": "text/x-python",
   "name": "python",
   "nbconvert_exporter": "python",
   "pygments_lexer": "ipython2",
   "version": "2.7.6"
  }
 },
 "nbformat": 4,
 "nbformat_minor": 0
}
