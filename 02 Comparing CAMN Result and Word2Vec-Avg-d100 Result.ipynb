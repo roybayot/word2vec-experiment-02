{
 "cells": [
  {
   "cell_type": "code",
   "execution_count": 18,
   "metadata": {
    "collapsed": true
   },
   "outputs": [],
   "source": [
    "import gensim\n",
    "import pandas as pd\n",
    "import numpy as np\n",
    "import sys\n",
    "import os\n",
    "import itertools\n",
    "import sklearn\n",
    "import pickle\n",
    "\n",
    "from sklearn import cross_validation\n",
    "from sklearn import svm\n",
    "from sklearn import metrics\n",
    "\n",
    "from scipy import stats\n",
    "from bs4 import BeautifulSoup\n",
    "\n",
    "reload(sys)\n",
    "sys.setdefaultencoding(\"UTF-8\")"
   ]
  },
  {
   "cell_type": "code",
   "execution_count": 19,
   "metadata": {
    "collapsed": true
   },
   "outputs": [],
   "source": [
    "camn_results = pickle.load( open( \"camn-results.pkl\", \"rb\" ) )"
   ]
  },
  {
   "cell_type": "code",
   "execution_count": 20,
   "metadata": {
    "collapsed": true
   },
   "outputs": [],
   "source": [
    "word2vec_avg_results = pickle.load( open( \"word2vec-average-d100.pkl\", \"rb\" ) )"
   ]
  },
  {
   "cell_type": "code",
   "execution_count": 34,
   "metadata": {
    "collapsed": false
   },
   "outputs": [
    {
     "data": {
      "text/plain": [
       "{'1,0.0001': array([ 0.47058824,  0.52941176,  0.73333333,  0.6       ,  0.53333333,\n",
       "         0.73333333,  0.66666667,  0.66666667,  0.5       ,  0.71428571]),\n",
       " '1,0.001': array([ 0.47058824,  0.52941176,  0.73333333,  0.6       ,  0.53333333,\n",
       "         0.73333333,  0.66666667,  0.66666667,  0.5       ,  0.71428571]),\n",
       " '1,0.1': array([ 0.47058824,  0.52941176,  0.73333333,  0.6       ,  0.53333333,\n",
       "         0.73333333,  0.66666667,  0.66666667,  0.5       ,  0.71428571]),\n",
       " '1,1': array([ 0.47058824,  0.52941176,  0.73333333,  0.6       ,  0.53333333,\n",
       "         0.73333333,  0.66666667,  0.66666667,  0.5       ,  0.71428571]),\n",
       " '1,10': array([ 0.47058824,  0.52941176,  0.73333333,  0.6       ,  0.53333333,\n",
       "         0.73333333,  0.66666667,  0.66666667,  0.5       ,  0.71428571]),\n",
       " '1,1000': array([ 0.47058824,  0.52941176,  0.73333333,  0.6       ,  0.53333333,\n",
       "         0.73333333,  0.66666667,  0.66666667,  0.5       ,  0.71428571]),\n",
       " '1,10000': array([ 0.47058824,  0.52941176,  0.73333333,  0.6       ,  0.53333333,\n",
       "         0.73333333,  0.66666667,  0.66666667,  0.5       ,  0.71428571]),\n",
       " '2,0.0001': array([ 0.47058824,  0.58823529,  0.73333333,  0.6       ,  0.53333333,\n",
       "         0.73333333,  0.66666667,  0.66666667,  0.5       ,  0.71428571]),\n",
       " '2,0.001': array([ 0.47058824,  0.58823529,  0.73333333,  0.6       ,  0.53333333,\n",
       "         0.73333333,  0.66666667,  0.66666667,  0.5       ,  0.71428571]),\n",
       " '2,0.1': array([ 0.47058824,  0.58823529,  0.73333333,  0.6       ,  0.53333333,\n",
       "         0.73333333,  0.66666667,  0.66666667,  0.5       ,  0.71428571]),\n",
       " '2,1': array([ 0.52941176,  0.58823529,  0.86666667,  0.73333333,  0.66666667,\n",
       "         0.8       ,  0.73333333,  0.8       ,  0.57142857,  0.78571429]),\n",
       " '2,10': array([ 0.76470588,  0.76470588,  0.86666667,  0.86666667,  0.73333333,\n",
       "         0.8       ,  0.86666667,  0.93333333,  0.57142857,  0.92857143]),\n",
       " '2,1000': array([ 0.76470588,  0.76470588,  0.86666667,  0.86666667,  0.73333333,\n",
       "         0.8       ,  0.86666667,  0.93333333,  0.57142857,  0.92857143]),\n",
       " '2,10000': array([ 0.76470588,  0.76470588,  0.86666667,  0.86666667,  0.73333333,\n",
       "         0.8       ,  0.86666667,  0.93333333,  0.57142857,  0.92857143]),\n",
       " '3,0.0001': array([ 0.41176471,  0.52941176,  0.53333333,  0.46666667,  0.33333333,\n",
       "         0.53333333,  0.53333333,  0.66666667,  0.42857143,  0.71428571]),\n",
       " '3,0.001': array([ 0.41176471,  0.52941176,  0.53333333,  0.46666667,  0.33333333,\n",
       "         0.53333333,  0.6       ,  0.66666667,  0.42857143,  0.71428571]),\n",
       " '3,0.1': array([ 0.47058824,  0.58823529,  0.73333333,  0.53333333,  0.53333333,\n",
       "         0.8       ,  0.66666667,  0.6       ,  0.5       ,  0.64285714]),\n",
       " '3,1': array([ 0.64705882,  0.64705882,  0.86666667,  0.8       ,  0.73333333,\n",
       "         0.8       ,  0.8       ,  0.86666667,  0.57142857,  0.78571429]),\n",
       " '3,10': array([ 0.76470588,  0.76470588,  0.86666667,  0.86666667,  0.73333333,\n",
       "         0.8       ,  0.86666667,  0.93333333,  0.57142857,  0.92857143]),\n",
       " '3,1000': array([ 0.76470588,  0.76470588,  0.86666667,  0.86666667,  0.73333333,\n",
       "         0.8       ,  0.86666667,  0.93333333,  0.57142857,  0.92857143]),\n",
       " '3,10000': array([ 0.76470588,  0.76470588,  0.86666667,  0.86666667,  0.73333333,\n",
       "         0.8       ,  0.86666667,  0.93333333,  0.57142857,  0.92857143])}"
      ]
     },
     "execution_count": 34,
     "metadata": {},
     "output_type": "execute_result"
    }
   ],
   "source": [
    "treatment_1 = camn_results['age-experiment-1.2']\n",
    "treatment_1"
   ]
  },
  {
   "cell_type": "code",
   "execution_count": 22,
   "metadata": {
    "collapsed": false
   },
   "outputs": [],
   "source": [
    "treatment_2 = word2vec_avg_results['word2vec-source=twitter dims=100 task=age kernel=poly degree=1 C=0.1']"
   ]
  },
  {
   "cell_type": "code",
   "execution_count": 23,
   "metadata": {
    "collapsed": false
   },
   "outputs": [
    {
     "data": {
      "text/plain": [
       "0.00015705228423075119"
      ]
     },
     "execution_count": 23,
     "metadata": {},
     "output_type": "execute_result"
    }
   ],
   "source": [
    "z_stat, p_val = stats.ranksums(treatment_1, treatment_2)\n",
    "p_val"
   ]
  },
  {
   "cell_type": "code",
   "execution_count": 33,
   "metadata": {
    "collapsed": false
   },
   "outputs": [
    {
     "data": {
      "text/plain": [
       "array([ 0.58823529,  0.64705882,  0.73333333,  0.73333333,  0.66666667,\n",
       "        0.8       ,  0.66666667,  0.73333333,  0.57142857,  0.78571429])"
      ]
     },
     "execution_count": 33,
     "metadata": {},
     "output_type": "execute_result"
    }
   ],
   "source": [
    "word2vec_avg_results['word2vec-source=twitter dims=100 task=age kernel=rbf gamma=1 C=1000']"
   ]
  },
  {
   "cell_type": "code",
   "execution_count": 28,
   "metadata": {
    "collapsed": false
   },
   "outputs": [],
   "source": [
    "a = word2vec_avg_results.keys()"
   ]
  },
  {
   "cell_type": "code",
   "execution_count": 30,
   "metadata": {
    "collapsed": false
   },
   "outputs": [
    {
     "data": {
      "text/plain": [
       "['word2vec-source=twitter dims=100 task=age kernel=poly degree=1 C=0.1',\n",
       " 'word2vec-source=twitter dims=100 task=age kernel=poly degree=1 C=10',\n",
       " 'word2vec-source=twitter dims=100 task=age kernel=poly degree=1 C=1000',\n",
       " 'word2vec-source=twitter dims=100 task=age kernel=poly degree=2 C=0.1',\n",
       " 'word2vec-source=twitter dims=100 task=age kernel=poly degree=2 C=10',\n",
       " 'word2vec-source=twitter dims=100 task=age kernel=poly degree=2 C=1000',\n",
       " 'word2vec-source=twitter dims=100 task=age kernel=poly degree=3 C=0.1',\n",
       " 'word2vec-source=twitter dims=100 task=age kernel=poly degree=3 C=10',\n",
       " 'word2vec-source=twitter dims=100 task=age kernel=poly degree=3 C=1000',\n",
       " 'word2vec-source=twitter dims=100 task=age kernel=rbf gamma=0.001 C=10',\n",
       " 'word2vec-source=twitter dims=100 task=age kernel=rbf gamma=0.001 C=1000',\n",
       " 'word2vec-source=twitter dims=100 task=age kernel=rbf gamma=1 C=10',\n",
       " 'word2vec-source=twitter dims=100 task=age kernel=rbf gamma=1 C=1000',\n",
       " 'word2vec-source=twitter dims=100 task=gender kernel=poly degree=1 C=0.1',\n",
       " 'word2vec-source=twitter dims=100 task=gender kernel=poly degree=1 C=10',\n",
       " 'word2vec-source=twitter dims=100 task=gender kernel=poly degree=1 C=1000',\n",
       " 'word2vec-source=twitter dims=100 task=gender kernel=poly degree=2 C=0.1',\n",
       " 'word2vec-source=twitter dims=100 task=gender kernel=poly degree=2 C=10',\n",
       " 'word2vec-source=twitter dims=100 task=gender kernel=poly degree=2 C=1000',\n",
       " 'word2vec-source=twitter dims=100 task=gender kernel=poly degree=3 C=0.1',\n",
       " 'word2vec-source=twitter dims=100 task=gender kernel=poly degree=3 C=10',\n",
       " 'word2vec-source=twitter dims=100 task=gender kernel=poly degree=3 C=1000',\n",
       " 'word2vec-source=twitter dims=100 task=gender kernel=rbf gamma=0.001 C=10',\n",
       " 'word2vec-source=twitter dims=100 task=gender kernel=rbf gamma=0.001 C=1000',\n",
       " 'word2vec-source=twitter dims=100 task=gender kernel=rbf gamma=1 C=10',\n",
       " 'word2vec-source=twitter dims=100 task=gender kernel=rbf gamma=1 C=1000',\n",
       " 'word2vec-source=wiki-giga dims=100 task=age kernel=poly degree=1 C=0.1',\n",
       " 'word2vec-source=wiki-giga dims=100 task=age kernel=poly degree=1 C=10',\n",
       " 'word2vec-source=wiki-giga dims=100 task=age kernel=poly degree=1 C=1000',\n",
       " 'word2vec-source=wiki-giga dims=100 task=age kernel=poly degree=2 C=0.1',\n",
       " 'word2vec-source=wiki-giga dims=100 task=age kernel=poly degree=2 C=10',\n",
       " 'word2vec-source=wiki-giga dims=100 task=age kernel=poly degree=2 C=1000',\n",
       " 'word2vec-source=wiki-giga dims=100 task=age kernel=poly degree=3 C=0.1',\n",
       " 'word2vec-source=wiki-giga dims=100 task=age kernel=poly degree=3 C=10',\n",
       " 'word2vec-source=wiki-giga dims=100 task=age kernel=poly degree=3 C=1000',\n",
       " 'word2vec-source=wiki-giga dims=100 task=age kernel=rbf gamma=0.001 C=10',\n",
       " 'word2vec-source=wiki-giga dims=100 task=age kernel=rbf gamma=0.001 C=1000',\n",
       " 'word2vec-source=wiki-giga dims=100 task=age kernel=rbf gamma=1 C=10',\n",
       " 'word2vec-source=wiki-giga dims=100 task=age kernel=rbf gamma=1 C=1000',\n",
       " 'word2vec-source=wiki-giga dims=100 task=gender kernel=poly degree=1 C=0.1',\n",
       " 'word2vec-source=wiki-giga dims=100 task=gender kernel=poly degree=1 C=10',\n",
       " 'word2vec-source=wiki-giga dims=100 task=gender kernel=poly degree=1 C=1000',\n",
       " 'word2vec-source=wiki-giga dims=100 task=gender kernel=poly degree=2 C=0.1',\n",
       " 'word2vec-source=wiki-giga dims=100 task=gender kernel=poly degree=2 C=10',\n",
       " 'word2vec-source=wiki-giga dims=100 task=gender kernel=poly degree=2 C=1000',\n",
       " 'word2vec-source=wiki-giga dims=100 task=gender kernel=poly degree=3 C=0.1',\n",
       " 'word2vec-source=wiki-giga dims=100 task=gender kernel=poly degree=3 C=10',\n",
       " 'word2vec-source=wiki-giga dims=100 task=gender kernel=poly degree=3 C=1000',\n",
       " 'word2vec-source=wiki-giga dims=100 task=gender kernel=rbf gamma=0.001 C=10',\n",
       " 'word2vec-source=wiki-giga dims=100 task=gender kernel=rbf gamma=0.001 C=1000',\n",
       " 'word2vec-source=wiki-giga dims=100 task=gender kernel=rbf gamma=1 C=10',\n",
       " 'word2vec-source=wiki-giga dims=100 task=gender kernel=rbf gamma=1 C=1000']"
      ]
     },
     "execution_count": 30,
     "metadata": {},
     "output_type": "execute_result"
    }
   ],
   "source": [
    "a.sort()\n",
    "a"
   ]
  },
  {
   "cell_type": "code",
   "execution_count": null,
   "metadata": {
    "collapsed": false
   },
   "outputs": [],
   "source": []
  },
  {
   "cell_type": "code",
   "execution_count": null,
   "metadata": {
    "collapsed": true
   },
   "outputs": [],
   "source": []
  }
 ],
 "metadata": {
  "kernelspec": {
   "display_name": "Python 2",
   "language": "python",
   "name": "python2"
  },
  "language_info": {
   "codemirror_mode": {
    "name": "ipython",
    "version": 2
   },
   "file_extension": ".py",
   "mimetype": "text/x-python",
   "name": "python",
   "nbconvert_exporter": "python",
   "pygments_lexer": "ipython2",
   "version": "2.7.6"
  }
 },
 "nbformat": 4,
 "nbformat_minor": 0
}
